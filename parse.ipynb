{
 "cells": [
  {
   "cell_type": "code",
   "execution_count": null,
   "metadata": {
    "collapsed": false
   },
   "outputs": [],
   "source": [
    "import psycopg2\n",
    "from lxml import etree\n",
    "\n",
    "infile = \"testdump-m.xml\"\n",
    "lang = \"en\"\n",
    "\n",
    "ns = '{http://www.mediawiki.org/xml/export-0.10/}'\n",
    "\n",
    "# drop everything and start over?\n",
    "drop = False\n",
    "\n",
    "# Connect to an existing database\n",
    "conn = psycopg2.connect(\"dbname=CPT user=carsten\")\n",
    "\n",
    "# Open a cursor to perform database operations\n",
    "cur = conn.cursor()\n",
    "\n",
    "if drop: # drop everything and recreate tables\n",
    "    cur.execute('DROP TABLE IF EXISTS \"places\";')\n",
    "    cur.execute('DROP TABLE IF EXISTS \"links\";')\n",
    "    cur.execute('CREATE TABLE \"places\" (\"pageid\" integer, \"the_geom\" geography, \"title\" varchar, \"lang\" varchar) ;')\n",
    "    cur.execute('CREATE TABLE \"links\" (\"from\" varchar, \"to\" varchar, \"lang\" varchar, \"links\" integer, \"mentions\" integer) ;')\n",
    "\n",
    "# for the parsing, we follow the approach explained here: \n",
    "# http://www.ibm.com/developerworks/xml/library/x-hiperfparse/ \n",
    "pages = etree.iterparse(infile, events=('end',), tag=ns+'page')\n",
    "\n",
    "for event, page in pages:    \n",
    "    title  = page.find(ns+'title')\n",
    "    pageid = page.find(ns+'id')    \n",
    "    pagetext   = page.find(ns+'revision/'+ns+'text')\n",
    "    \n",
    "    # print(title.text)\n",
    "    # It's safe to call clear() here because no descendants will be accessed\n",
    "    page.clear()\n",
    "\n",
    "    # Also eliminate now-empty references from the root node to <Title> \n",
    "    while page.getprevious() is not None:\n",
    "        del page.getparent()[0]\n",
    "\n",
    "\n",
    "def findcoordinates(pagetext):\n",
    "    coords = None #TODO \n",
    "    return coords;\n",
    "\n",
    "def findreferences(pagetext):\n",
    "    #TODO: \n",
    "    # 1. find all links via regex, save in a dict with the link as key and number of occurrences for this link as value\n",
    "    # 2. go through array of links; for every link: \n",
    "    #      a. find all mentions via regex\n",
    "    #      b. insert into PostGIS links table\n",
    "    # TODO: handle aliases ! e.g. [[NYC|New York City]]\n",
    "    \n",
    "    \n",
    "    \n",
    "    \n",
    "# Pass data to fill\n",
    "# cur.execute(\"INSERT INTO test (num, data) VALUES (%s, %s)\",\n",
    "\n",
    "# Query the database and obtain data as Python objects\n",
    "#cur.execute(\"SELECT * FROM test;\")\n",
    "#cur.fetchone()\n",
    "\n",
    "\n",
    "# Make the changes to the database persistent\n",
    "conn.commit()\n",
    "\n",
    "# Close communication with the database\n",
    "cur.close()\n",
    "conn.close()"
   ]
  },
  {
   "cell_type": "code",
   "execution_count": null,
   "metadata": {
    "collapsed": true
   },
   "outputs": [],
   "source": []
  }
 ],
 "metadata": {
  "kernelspec": {
   "display_name": "Python 2",
   "language": "python",
   "name": "python2"
  },
  "language_info": {
   "codemirror_mode": {
    "name": "ipython",
    "version": 2
   },
   "file_extension": ".py",
   "mimetype": "text/x-python",
   "name": "python",
   "nbconvert_exporter": "python",
   "pygments_lexer": "ipython2",
   "version": "2.7.9"
  }
 },
 "nbformat": 4,
 "nbformat_minor": 0
}
